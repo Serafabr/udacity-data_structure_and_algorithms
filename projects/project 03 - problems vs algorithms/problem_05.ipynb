{
 "cells": [
  {
   "cell_type": "markdown",
   "metadata": {},
   "source": [
    "# Building a Trie in Python\n",
    "\n",
    "Before we start let us reiterate the key components of a Trie or Prefix Tree. A trie is a tree-like data structure that stores a dynamic set of strings. Tries are commonly used to facilitate operations like predictive text or autocomplete features on mobile phones or web search.\n",
    "\n",
    "Before we move into the autocomplete function we need to create a working trie for storing strings.  We will create two classes:\n",
    "* A `Trie` class that contains the root node (empty string)\n",
    "* A `TrieNode` class that exposes the general functionality of the Trie, like inserting a word or finding the node which represents a prefix.\n",
    "\n",
    "Give it a try by implementing the `TrieNode` and `Trie` classes below!"
   ]
  },
  {
   "cell_type": "code",
   "execution_count": 55,
   "metadata": {},
   "outputs": [],
   "source": [
    "## Represents a single node in the Trie\n",
    "class TrieNode:\n",
    "    def __init__(self, char):\n",
    "        ## Initialize this node in the Trie\n",
    "        self.char = char\n",
    "        # Children will be saved on a Hash Table\n",
    "        self.children = dict()\n",
    "        self.end_word = False\n",
    "    \n",
    "    def insert(self, char):\n",
    "        ## Add a child node in this Trie\n",
    "        if char not in self.children:\n",
    "            self.children[char] = TrieNode(char)\n",
    "    \n",
    "    def get_child(self, char):\n",
    "        # Get child node with this character\n",
    "        return self.children.get(char, None)\n",
    "    \n",
    "    def set_end_word(self, is_end_word):\n",
    "        self.end_word = is_end_word\n",
    "    \n",
    "    def __str__(self):\n",
    "        # Print the node\n",
    "        output = \"Node ({})\\n\".format(self.char)\n",
    "        output += \"Children - \"\n",
    "        for item in self.children:\n",
    "            output += \"{} - \".format(item)\n",
    "        return output\n",
    "        \n",
    "## The Trie itself containing the root node and insert/find functions\n",
    "class Trie:\n",
    "    def __init__(self):\n",
    "        ## Initialize this Trie (add a root node)\n",
    "        self.root = TrieNode(\"\")\n",
    "\n",
    "    def insert(self, word):\n",
    "        ## Add a word to the Trie\n",
    "        current_node = self.root\n",
    "        # Add each char of the word on the Trie\n",
    "        for char in word:\n",
    "            current_node.insert(char)\n",
    "            # Go to the next node\n",
    "            current_node = current_node.get_child(char)\n",
    "        current_node.set_end_word(True)\n",
    "\n",
    "    def find(self, prefix):\n",
    "        ## Find the Trie node that represents this prefix\n",
    "        current_node = self.root\n",
    "        for char in prefix:\n",
    "            current_node = current_node.get_child(char)\n",
    "            if current_node is None:\n",
    "                return None\n",
    "        return current_node\n"
   ]
  },
  {
   "cell_type": "code",
   "execution_count": 56,
   "metadata": {},
   "outputs": [
    {
     "name": "stdout",
     "output_type": "stream",
     "text": [
      "Node (t)\n",
      "Children - o - i - \n",
      "Node (c)\n",
      "Children - o - \n",
      "Node (e)\n",
      "Children - d - r - \n"
     ]
    }
   ],
   "source": [
    "# Test insert and find\n",
    "\n",
    "trie = Trie()\n",
    "trie.insert(\"Pedro\")\n",
    "trie.insert(\"Perto\")\n",
    "trie.insert(\"Pertinho\")\n",
    "trie.insert(\"Perco\")\n",
    "trie.insert(\"Paro\")\n",
    "\n",
    "print(trie.find(\"Pert\"))\n",
    "print(trie.find(\"Perc\"))\n",
    "print(trie.find(\"Pe\"))"
   ]
  },
  {
   "cell_type": "markdown",
   "metadata": {},
   "source": [
    "# Finding Suffixes\n",
    "\n",
    "Now that we have a functioning Trie, we need to add the ability to list suffixes to implement our autocomplete feature.  To do that, we need to implement a new function on the `TrieNode` object that will return all complete word suffixes that exist below it in the trie.  For example, if our Trie contains the words `[\"fun\", \"function\", \"factory\"]` and we ask for suffixes from the `f` node, we would expect to receive `[\"un\", \"unction\", \"actory\"]` back from `node.suffixes()`.\n",
    "\n",
    "Using the code you wrote for the `TrieNode` above, try to add the suffixes function below. (Hint: recurse down the trie, collecting suffixes as you go.)"
   ]
  },
  {
   "cell_type": "code",
   "execution_count": 57,
   "metadata": {},
   "outputs": [],
   "source": [
    "# Stack will be used to traverse the Trie\n",
    "class Stack:\n",
    "    def __init__(self):\n",
    "        # Implement using array\n",
    "        self.arr = []\n",
    "        \n",
    "    def push(self, item):\n",
    "        self.arr.append(item)\n",
    "    \n",
    "    def size(self):\n",
    "        return len(self.arr)\n",
    "    \n",
    "    def is_empty(self):\n",
    "        return self.size() == 0\n",
    "    \n",
    "    def pop(self):\n",
    "        # Check if the array is empty\n",
    "        if self.is_empty():\n",
    "            return None\n",
    "        return self.arr.pop()\n",
    "    \n",
    "    def __str__(self):\n",
    "        # Print the stack\n",
    "        output = \"Stack: \\n\"\n",
    "        for item in self.arr:\n",
    "            output += \"{}, \".format(item)\n",
    "        return output\n",
    "\n",
    "## Represents a single node in the Trie\n",
    "class TrieNode:\n",
    "    def __init__(self, char):\n",
    "        ## Initialize this node in the Trie\n",
    "        self.char = char\n",
    "        # Children will be saved on a Hash Table\n",
    "        self.children = dict()\n",
    "        self.end_word = False\n",
    "    \n",
    "    def suffixes(self):\n",
    "        # Create a stack of TrieNodes to keep track of what we have already seen\n",
    "        stack_nodes = Stack()\n",
    "        result = []\n",
    "        # Keep the node and the current suffix on the stack\n",
    "        stack_nodes.push((self, \"\"))\n",
    "    \n",
    "        # Start with the first node on the stack\n",
    "        current_tupple = stack_nodes.pop()\n",
    "        while current_tupple:\n",
    "            # Get values\n",
    "            current_node, current_suffix = current_tupple\n",
    "            \n",
    "            # Check for complete word\n",
    "            if current_node.end_word:\n",
    "                result.append(current_suffix)\n",
    "            \n",
    "            # Loop through all children and push them to the stack\n",
    "            for char in current_node.children:\n",
    "                new_suffix = current_suffix + char\n",
    "                new_node = current_node.get_child(char)\n",
    "                stack_nodes.push((new_node, new_suffix))\n",
    "            \n",
    "            # Get next TrieNode from stack\n",
    "            current_tupple = stack_nodes.pop()\n",
    "        \n",
    "        return result\n",
    "    \n",
    "    def insert(self, char):\n",
    "        ## Add a child node in this Trie\n",
    "        if char not in self.children:\n",
    "            self.children[char] = TrieNode(char)\n",
    "    \n",
    "    def get_child(self, char):\n",
    "        return self.children.get(char, None)\n",
    "    \n",
    "    def set_end_word(self, is_end_word):\n",
    "        self.end_word = is_end_word\n",
    "    \n",
    "    def __str__(self):\n",
    "        output = \"Node ({})\\n\".format(self.char)\n",
    "        output += \"Children - \"\n",
    "        for item in self.children:\n",
    "            output += \"{} - \".format(item)\n",
    "        return output\n",
    "\n",
    "            \n",
    "## The Trie itself containing the root node and insert/find functions\n",
    "class Trie:\n",
    "    def __init__(self):\n",
    "        ## Initialize this Trie (add a root node)\n",
    "        self.root = TrieNode(\"\")\n",
    "\n",
    "    def insert(self, word):\n",
    "        ## Add a word to the Trie\n",
    "        current_node = self.root\n",
    "        for char in word:\n",
    "            current_node.insert(char)\n",
    "            current_node = current_node.get_child(char)\n",
    "        current_node.set_end_word(True)\n",
    "\n",
    "    def find(self, prefix):\n",
    "        ## Find the Trie node that represents this prefix\n",
    "        current_node = self.root\n",
    "        for char in prefix:\n",
    "            current_node = current_node.get_child(char)\n",
    "            if current_node is None:\n",
    "                return None\n",
    "        return current_node"
   ]
  },
  {
   "cell_type": "code",
   "execution_count": 58,
   "metadata": {},
   "outputs": [
    {
     "name": "stdout",
     "output_type": "stream",
     "text": [
      "['inho', 'o']\n"
     ]
    }
   ],
   "source": [
    "# Test suffixes\n",
    "\n",
    "trie = Trie()\n",
    "trie.insert(\"Pedro\")\n",
    "trie.insert(\"Perto\")\n",
    "trie.insert(\"Pertinho\")\n",
    "trie.insert(\"Perco\")\n",
    "trie.insert(\"Paro\")\n",
    "\n",
    "print(trie.find(\"Pert\").suffixes())"
   ]
  },
  {
   "cell_type": "markdown",
   "metadata": {},
   "source": [
    "# Testing it all out\n",
    "\n",
    "Run the following code to add some words to your trie and then use the interactive search box to see what your code returns."
   ]
  },
  {
   "cell_type": "code",
   "execution_count": 59,
   "metadata": {},
   "outputs": [],
   "source": [
    "MyTrie = Trie()\n",
    "wordList = [\n",
    "    \"ant\", \"anthology\", \"antagonist\", \"antonym\", \n",
    "    \"fun\", \"function\", \"factory\", \n",
    "    \"trie\", \"trigger\", \"trigonometry\", \"tripod\"\n",
    "]\n",
    "for word in wordList:\n",
    "    MyTrie.insert(word)"
   ]
  },
  {
   "cell_type": "code",
   "execution_count": 60,
   "metadata": {},
   "outputs": [
    {
     "data": {
      "application/vnd.jupyter.widget-view+json": {
       "model_id": "8be20b3c6a7a433b8df19896075096bd",
       "version_major": 2,
       "version_minor": 0
      },
      "text/html": [
       "<p>Failed to display Jupyter Widget of type <code>interactive</code>.</p>\n",
       "<p>\n",
       "  If you're reading this message in the Jupyter Notebook or JupyterLab Notebook, it may mean\n",
       "  that the widgets JavaScript is still loading. If this message persists, it\n",
       "  likely means that the widgets JavaScript library is either not installed or\n",
       "  not enabled. See the <a href=\"https://ipywidgets.readthedocs.io/en/stable/user_install.html\">Jupyter\n",
       "  Widgets Documentation</a> for setup instructions.\n",
       "</p>\n",
       "<p>\n",
       "  If you're reading this message in another frontend (for example, a static\n",
       "  rendering on GitHub or <a href=\"https://nbviewer.jupyter.org/\">NBViewer</a>),\n",
       "  it may mean that your frontend doesn't currently support widgets.\n",
       "</p>\n"
      ],
      "text/plain": [
       "interactive(children=(Text(value='', description='prefix'), Output()), _dom_classes=('widget-interact',))"
      ]
     },
     "metadata": {},
     "output_type": "display_data"
    }
   ],
   "source": [
    "from ipywidgets import widgets\n",
    "from IPython.display import display\n",
    "from ipywidgets import interact\n",
    "def f(prefix):\n",
    "    if prefix != '':\n",
    "        prefixNode = MyTrie.find(prefix)\n",
    "        if prefixNode:\n",
    "            print('\\n'.join(prefixNode.suffixes()))\n",
    "        else:\n",
    "            print(prefix + \" not found\")\n",
    "    else:\n",
    "        print('')\n",
    "interact(f,prefix='');"
   ]
  },
  {
   "cell_type": "code",
   "execution_count": null,
   "metadata": {},
   "outputs": [],
   "source": []
  }
 ],
 "metadata": {
  "kernelspec": {
   "display_name": "Python 3",
   "language": "python",
   "name": "python3"
  },
  "language_info": {
   "codemirror_mode": {
    "name": "ipython",
    "version": 3
   },
   "file_extension": ".py",
   "mimetype": "text/x-python",
   "name": "python",
   "nbconvert_exporter": "python",
   "pygments_lexer": "ipython3",
   "version": "3.6.3"
  },
  "widgets": {
   "state": {},
   "version": "1.1.2"
  }
 },
 "nbformat": 4,
 "nbformat_minor": 2
}
